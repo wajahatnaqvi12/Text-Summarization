{
 "cells": [
  {
   "cell_type": "markdown",
   "id": "6b899038-9ecd-49d4-b7b4-0d6549022aad",
   "metadata": {},
   "source": [
    "# Text Summarization"
   ]
  },
  {
   "cell_type": "markdown",
   "id": "57ba0335-edaf-4291-a12b-50245733748c",
   "metadata": {},
   "source": [
    "## Importing required libraries and Loading dataset"
   ]
  },
  {
   "cell_type": "code",
   "execution_count": 1,
   "id": "7392340f-ba94-47c3-b9b4-b5fd02b396ff",
   "metadata": {},
   "outputs": [
    {
     "name": "stderr",
     "output_type": "stream",
     "text": [
      "[nltk_data] Downloading package punkt_tab to\n",
      "[nltk_data]     C:\\Users\\hp\\AppData\\Roaming\\nltk_data...\n",
      "[nltk_data]   Package punkt_tab is already up-to-date!\n"
     ]
    }
   ],
   "source": [
    "# Step 1: Load and Preprocess the Dataset\n",
    "\n",
    "import pandas as pd\n",
    "import nltk\n",
    "nltk.download('punkt_tab')\n",
    "import spacy\n",
    "from tqdm.notebook import tqdm  \n",
    "# Load the CSV files\n",
    "# Load just the first 1,000 rows\n",
    "train_df = pd.read_csv('train.csv', nrows=1000)\n",
    "test_df = pd.read_csv('test.csv', nrows=1000)\n",
    "val_df = pd.read_csv('validation.csv', nrows=1000)"
   ]
  },
  {
   "cell_type": "code",
   "execution_count": 2,
   "id": "47f36c27-efa0-4171-843b-8d1a3bfa98c9",
   "metadata": {},
   "outputs": [
    {
     "data": {
      "text/html": [
       "<div>\n",
       "<style scoped>\n",
       "    .dataframe tbody tr th:only-of-type {\n",
       "        vertical-align: middle;\n",
       "    }\n",
       "\n",
       "    .dataframe tbody tr th {\n",
       "        vertical-align: top;\n",
       "    }\n",
       "\n",
       "    .dataframe thead th {\n",
       "        text-align: right;\n",
       "    }\n",
       "</style>\n",
       "<table border=\"1\" class=\"dataframe\">\n",
       "  <thead>\n",
       "    <tr style=\"text-align: right;\">\n",
       "      <th></th>\n",
       "      <th>id</th>\n",
       "      <th>article</th>\n",
       "      <th>highlights</th>\n",
       "    </tr>\n",
       "  </thead>\n",
       "  <tbody>\n",
       "    <tr>\n",
       "      <th>0</th>\n",
       "      <td>0001d1afc246a7964130f43ae940af6bc6c57f01</td>\n",
       "      <td>By . Associated Press . PUBLISHED: . 14:11 EST...</td>\n",
       "      <td>Bishop John Folda, of North Dakota, is taking ...</td>\n",
       "    </tr>\n",
       "    <tr>\n",
       "      <th>1</th>\n",
       "      <td>0002095e55fcbd3a2f366d9bf92a95433dc305ef</td>\n",
       "      <td>(CNN) -- Ralph Mata was an internal affairs li...</td>\n",
       "      <td>Criminal complaint: Cop used his role to help ...</td>\n",
       "    </tr>\n",
       "    <tr>\n",
       "      <th>2</th>\n",
       "      <td>00027e965c8264c35cc1bc55556db388da82b07f</td>\n",
       "      <td>A drunk driver who killed a young woman in a h...</td>\n",
       "      <td>Craig Eccleston-Todd, 27, had drunk at least t...</td>\n",
       "    </tr>\n",
       "    <tr>\n",
       "      <th>3</th>\n",
       "      <td>0002c17436637c4fe1837c935c04de47adb18e9a</td>\n",
       "      <td>(CNN) -- With a breezy sweep of his pen Presid...</td>\n",
       "      <td>Nina dos Santos says Europe must be ready to a...</td>\n",
       "    </tr>\n",
       "    <tr>\n",
       "      <th>4</th>\n",
       "      <td>0003ad6ef0c37534f80b55b4235108024b407f0b</td>\n",
       "      <td>Fleetwood are the only team still to have a 10...</td>\n",
       "      <td>Fleetwood top of League One after 2-0 win at S...</td>\n",
       "    </tr>\n",
       "  </tbody>\n",
       "</table>\n",
       "</div>"
      ],
      "text/plain": [
       "                                         id  \\\n",
       "0  0001d1afc246a7964130f43ae940af6bc6c57f01   \n",
       "1  0002095e55fcbd3a2f366d9bf92a95433dc305ef   \n",
       "2  00027e965c8264c35cc1bc55556db388da82b07f   \n",
       "3  0002c17436637c4fe1837c935c04de47adb18e9a   \n",
       "4  0003ad6ef0c37534f80b55b4235108024b407f0b   \n",
       "\n",
       "                                             article  \\\n",
       "0  By . Associated Press . PUBLISHED: . 14:11 EST...   \n",
       "1  (CNN) -- Ralph Mata was an internal affairs li...   \n",
       "2  A drunk driver who killed a young woman in a h...   \n",
       "3  (CNN) -- With a breezy sweep of his pen Presid...   \n",
       "4  Fleetwood are the only team still to have a 10...   \n",
       "\n",
       "                                          highlights  \n",
       "0  Bishop John Folda, of North Dakota, is taking ...  \n",
       "1  Criminal complaint: Cop used his role to help ...  \n",
       "2  Craig Eccleston-Todd, 27, had drunk at least t...  \n",
       "3  Nina dos Santos says Europe must be ready to a...  \n",
       "4  Fleetwood top of League One after 2-0 win at S...  "
      ]
     },
     "execution_count": 2,
     "metadata": {},
     "output_type": "execute_result"
    }
   ],
   "source": [
    "# View structure\n",
    "train_df.head()"
   ]
  },
  {
   "cell_type": "code",
   "execution_count": 3,
   "id": "1fbe7230-419a-4778-8553-7ff8cbce86a5",
   "metadata": {},
   "outputs": [
    {
     "data": {
      "text/html": [
       "<div>\n",
       "<style scoped>\n",
       "    .dataframe tbody tr th:only-of-type {\n",
       "        vertical-align: middle;\n",
       "    }\n",
       "\n",
       "    .dataframe tbody tr th {\n",
       "        vertical-align: top;\n",
       "    }\n",
       "\n",
       "    .dataframe thead th {\n",
       "        text-align: right;\n",
       "    }\n",
       "</style>\n",
       "<table border=\"1\" class=\"dataframe\">\n",
       "  <thead>\n",
       "    <tr style=\"text-align: right;\">\n",
       "      <th></th>\n",
       "      <th>id</th>\n",
       "      <th>article</th>\n",
       "      <th>highlights</th>\n",
       "    </tr>\n",
       "  </thead>\n",
       "  <tbody>\n",
       "    <tr>\n",
       "      <th>995</th>\n",
       "      <td>02cda7baa5ffb66030294542e7372ed3d5742b22</td>\n",
       "      <td>After the anxiety of the first day Andy Murray...</td>\n",
       "      <td>Andy Murray wins 6-3, 6-3, 6-4 in one hour and...</td>\n",
       "    </tr>\n",
       "    <tr>\n",
       "      <th>996</th>\n",
       "      <td>02ce5810b37842c00ae90b6c7b70dbf686cd865f</td>\n",
       "      <td>By . Leon Watson and Sebastian Lander . PUBLIS...</td>\n",
       "      <td>Figures released by ABTA show Britons took few...</td>\n",
       "    </tr>\n",
       "    <tr>\n",
       "      <th>997</th>\n",
       "      <td>02cebc35c007eb63dc0a22f96de0541e4269793e</td>\n",
       "      <td>Mexico's government is trying to block the exe...</td>\n",
       "      <td>Defense attorneys are expected to present oral...</td>\n",
       "    </tr>\n",
       "    <tr>\n",
       "      <th>998</th>\n",
       "      <td>02d123388fbdf6da1466253313fe6641595c291c</td>\n",
       "      <td>By . Rob Cooper . Last updated at 5:05 PM on 2...</td>\n",
       "      <td>High-speed bed is fitted with a V8 600bhp engi...</td>\n",
       "    </tr>\n",
       "    <tr>\n",
       "      <th>999</th>\n",
       "      <td>02d13195c2ac5c61415b40c45712c943d9290164</td>\n",
       "      <td>Liverpool manager Brendan Rodgers felt Everton...</td>\n",
       "      <td>Everton ace Gareth Barry was lucky to escape a...</td>\n",
       "    </tr>\n",
       "  </tbody>\n",
       "</table>\n",
       "</div>"
      ],
      "text/plain": [
       "                                           id  \\\n",
       "995  02cda7baa5ffb66030294542e7372ed3d5742b22   \n",
       "996  02ce5810b37842c00ae90b6c7b70dbf686cd865f   \n",
       "997  02cebc35c007eb63dc0a22f96de0541e4269793e   \n",
       "998  02d123388fbdf6da1466253313fe6641595c291c   \n",
       "999  02d13195c2ac5c61415b40c45712c943d9290164   \n",
       "\n",
       "                                               article  \\\n",
       "995  After the anxiety of the first day Andy Murray...   \n",
       "996  By . Leon Watson and Sebastian Lander . PUBLIS...   \n",
       "997  Mexico's government is trying to block the exe...   \n",
       "998  By . Rob Cooper . Last updated at 5:05 PM on 2...   \n",
       "999  Liverpool manager Brendan Rodgers felt Everton...   \n",
       "\n",
       "                                            highlights  \n",
       "995  Andy Murray wins 6-3, 6-3, 6-4 in one hour and...  \n",
       "996  Figures released by ABTA show Britons took few...  \n",
       "997  Defense attorneys are expected to present oral...  \n",
       "998  High-speed bed is fitted with a V8 600bhp engi...  \n",
       "999  Everton ace Gareth Barry was lucky to escape a...  "
      ]
     },
     "execution_count": 3,
     "metadata": {},
     "output_type": "execute_result"
    }
   ],
   "source": [
    "train_df.tail()"
   ]
  },
  {
   "cell_type": "code",
   "execution_count": 4,
   "id": "cac13437-f3a1-43e7-8af0-ffedb4ccd9ad",
   "metadata": {},
   "outputs": [],
   "source": [
    "# Keep only necessary columns\n",
    "train_df = train_df[['article', 'highlights']]\n",
    "test_df = test_df[['article', 'highlights']]\n",
    "val_df = val_df[['article', 'highlights']]"
   ]
  },
  {
   "cell_type": "markdown",
   "id": "90d0539a-db9b-448e-9bcc-132db4ab2893",
   "metadata": {},
   "source": [
    "## Preprocessing Text"
   ]
  },
  {
   "cell_type": "code",
   "execution_count": 5,
   "id": "b1f09c5d-7567-4dbd-9e10-233681cac426",
   "metadata": {},
   "outputs": [],
   "source": [
    "# Step 2: Preprocessing Text\n",
    "\n",
    "import re\n",
    "import nltk\n",
    "from nltk.tokenize import sent_tokenize\n",
    "\n",
    "def clean_text(text):\n",
    "    text = re.sub(r'\\s+', ' ', text)  # remove multiple spaces\n",
    "    text = re.sub(r'\\[[^\\]]*\\]', '', text)  # remove brackets\n",
    "    text = text.strip()\n",
    "    return text\n",
    "\n",
    "train_df['clean_article'] = train_df['article'].apply(clean_text)\n",
    "train_df['sentences'] = train_df['clean_article'].apply(sent_tokenize)\n"
   ]
  },
  {
   "cell_type": "markdown",
   "id": "c8484e69-2cf2-42fa-8ab4-efcdbae9cc1e",
   "metadata": {},
   "source": [
    "## Extractive summarization using Spacy"
   ]
  },
  {
   "cell_type": "code",
   "execution_count": 6,
   "id": "69bcc873-8107-476c-aec3-3b2fede4e54b",
   "metadata": {
    "scrolled": true
   },
   "outputs": [
    {
     "data": {
      "application/vnd.jupyter.widget-view+json": {
       "model_id": "b91819589e5b450986ebe3da0ab6b866",
       "version_major": 2,
       "version_minor": 0
      },
      "text/plain": [
       "  0%|          | 0/100 [00:00<?, ?it/s]"
      ]
     },
     "metadata": {},
     "output_type": "display_data"
    }
   ],
   "source": [
    "# Step 3: Executive Summary using spaCy\n",
    "import spacy\n",
    "from tqdm.notebook import tqdm\n",
    "\n",
    "# Load spaCy model\n",
    "nlp = spacy.load('en_core_web_sm')\n",
    "\n",
    "# Fast scoring method based on named entities and sentence length\n",
    "def extractive_summary_fast(text, num_sentences=3):\n",
    "    doc = nlp(text)\n",
    "    sentences = list(doc.sents)\n",
    "    scored_sentences = []\n",
    "\n",
    "    for sent in sentences:\n",
    "        score = len(sent.ents) + len(sent.text.split())\n",
    "        scored_sentences.append((sent.text, score))\n",
    "\n",
    "    top_sentences = sorted(scored_sentences, key=lambda x: x[1], reverse=True)[:num_sentences]\n",
    "    summary = ' '.join([sent[0] for sent in top_sentences])\n",
    "    return summary\n",
    "\n",
    "# Create a subset for testing\n",
    "extractive_subset = train_df.head(100).copy()\n",
    "tqdm.pandas()\n",
    "\n",
    "# Apply the summarizer\n",
    "extractive_subset['extractive_summary'] = extractive_subset['clean_article'].progress_apply(lambda x: extractive_summary_fast(x))\n"
   ]
  },
  {
   "cell_type": "markdown",
   "id": "7ec790cf-fa2a-4b0b-b5ac-ddd881951175",
   "metadata": {},
   "source": [
    "## Abstractive Summarizatiion using BART"
   ]
  },
  {
   "cell_type": "code",
   "execution_count": 32,
   "id": "4a590377-0f20-46eb-adc1-2bcdc80252c2",
   "metadata": {},
   "outputs": [
    {
     "name": "stderr",
     "output_type": "stream",
     "text": [
      "Generating summaries:  50%|███████████████████████████████                               | 1/2 [00:57<00:57, 57.67s/it]"
     ]
    },
    {
     "name": "stdout",
     "output_type": "stream",
     "text": [
      "Error summarizing batch 0-4: index out of range in self\n"
     ]
    },
    {
     "name": "stderr",
     "output_type": "stream",
     "text": [
      "Generating summaries: 100%|██████████████████████████████████████████████████████████████| 2/2 [01:51<00:00, 55.82s/it]\n"
     ]
    }
   ],
   "source": [
    "## Step 04 Abstractive summarization using BART\n",
    "def summarize_articles_in_batches(articles, batch_size=4):\n",
    "    summaries = []\n",
    "    for i in tqdm(range(0, len(articles), batch_size), desc=\"Generating summaries\"):\n",
    "        batch = articles[i:i+batch_size]\n",
    "        try:\n",
    "            outputs = summarizer(batch, max_length=130, min_length=30, truncation=True)\n",
    "            summaries.extend([output['summary_text'] for output in outputs])\n",
    "        except Exception as e:\n",
    "            print(f\"Error summarizing batch {i}-{i+batch_size}: {e}\")\n",
    "            summaries.extend([\"ERROR\"] * len(batch))\n",
    "    return summaries\n",
    "\n",
    "# Only keep non-empty articles\n",
    "subset_df = train_df.head(5).copy()\n",
    "subset_df = subset_df[subset_df['article'].str.strip().astype(bool)]\n",
    "\n",
    "# Summarize and assign\n",
    "summaries = summarize_articles_in_batches(subset_df['article'].tolist()\n",
    "subset_df['abstractive_summary'] = summaries\n",
    "train_df.update(subset_df)"
   ]
  },
  {
   "cell_type": "markdown",
   "id": "d0d4a4b6-8588-4936-811d-7c83f4b8f32c",
   "metadata": {},
   "source": [
    "## Evaluation using ROGUE"
   ]
  },
  {
   "cell_type": "code",
   "execution_count": 33,
   "id": "24dc97f3-ad06-447a-a1e4-1f20382c29db",
   "metadata": {},
   "outputs": [
    {
     "name": "stdout",
     "output_type": "stream",
     "text": [
      "Average ROUGE Scores for Abstractive Summaries:\n",
      "ROUGE-1: 0.0613\n",
      "ROUGE-2: 0.0207\n",
      "ROUGE-L: 0.0409\n"
     ]
    }
   ],
   "source": [
    "## Evaluation using ROUGE\n",
    "def evaluate_rouge_batch(references, generated_summaries):\n",
    "    scorer = rouge_scorer.RougeScorer(['rouge1', 'rouge2', 'rougeL'], use_stemmer=True)\n",
    "    all_scores = []\n",
    "\n",
    "    for ref, gen in zip(references, generated_summaries):\n",
    "        if isinstance(ref, str) and isinstance(gen, str):\n",
    "            score = scorer.score(ref, gen)\n",
    "            all_scores.append(score)\n",
    "        else:\n",
    "            all_scores.append({'rouge1': None, 'rouge2': None, 'rougeL': None})\n",
    "\n",
    "    return all_scores\n",
    "\n",
    "# Step 5: Evaluate using 'highlights' as reference summaries\n",
    "references = subset_df['highlights'][:10]\n",
    "generated = subset_df['abstractive_summary'][:10]\n",
    "\n",
    "rouge_scores = evaluate_rouge_batch(references, generated)\n",
    "\n",
    "# Step 6: Display average ROUGE scores\n",
    "import numpy as np\n",
    "\n",
    "def average_rouge_scores(score_list):\n",
    "    rouge1 = np.mean([s['rouge1'].fmeasure for s in score_list if s['rouge1']])\n",
    "    rouge2 = np.mean([s['rouge2'].fmeasure for s in score_list if s['rouge2']])\n",
    "    rougel = np.mean([s['rougeL'].fmeasure for s in score_list if s['rougeL']])\n",
    "    return {\n",
    "        \"ROUGE-1\": rouge1,\n",
    "        \"ROUGE-2\": rouge2,\n",
    "        \"ROUGE-L\": rougel\n",
    "    }\n",
    "\n",
    "avg_scores = average_rouge_scores(rouge_scores)\n",
    "print(\"Average ROUGE Scores for Abstractive Summaries:\")\n",
    "for k, v in avg_scores.items():\n",
    "    print(f\"{k}: {v:.4f}\")"
   ]
  },
  {
   "cell_type": "code",
   "execution_count": null,
   "id": "21577063-a3ed-44bc-bb8b-003cc6004027",
   "metadata": {},
   "outputs": [],
   "source": []
  }
 ],
 "metadata": {
  "kernelspec": {
   "display_name": "Python 3 (ipykernel)",
   "language": "python",
   "name": "python3"
  },
  "language_info": {
   "codemirror_mode": {
    "name": "ipython",
    "version": 3
   },
   "file_extension": ".py",
   "mimetype": "text/x-python",
   "name": "python",
   "nbconvert_exporter": "python",
   "pygments_lexer": "ipython3",
   "version": "3.11.9"
  }
 },
 "nbformat": 4,
 "nbformat_minor": 5
}
